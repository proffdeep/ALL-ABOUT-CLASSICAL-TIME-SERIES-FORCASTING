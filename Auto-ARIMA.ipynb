{
 "cells": [
  {
   "cell_type": "code",
   "execution_count": 1,
   "metadata": {},
   "outputs": [],
   "source": [
    "# Auto-ARIMA"
   ]
  },
  {
   "cell_type": "code",
   "execution_count": 9,
   "metadata": {},
   "outputs": [],
   "source": [
    "import numpy as np\n",
    "import pandas as pd\n",
    "import sklearn\n",
    "import scipy\n",
    "import matplotlib.pyplot as plt\n",
    "import seaborn as sns\n",
    "import yfinance\n",
    "from statsmodels.tsa.arima_model import ARIMA\n",
    "from arch import arch_model\n",
    "import statsmodels.api as sm\n",
    "import warnings\n",
    "warnings.filterwarnings('ignore')\n",
    "sns.set()"
   ]
  },
  {
   "cell_type": "code",
   "execution_count": 11,
   "metadata": {},
   "outputs": [
    {
     "name": "stdout",
     "output_type": "stream",
     "text": [
      "[*********************100%***********************]  4 of 4 completed\n"
     ]
    }
   ],
   "source": [
    "raw_data = yfinance.download(tickers=\"^GSPC ^FTSE ^N225 ^GDAXI\",\n",
    "                             start='1994-01-07',\n",
    "                             end='2018-01-29',\n",
    "                             interval=\"1d\",group_by = 'ticker',\n",
    "                             auto_adjust=True,treads=True)"
   ]
  },
  {
   "cell_type": "code",
   "execution_count": 23,
   "metadata": {},
   "outputs": [],
   "source": [
    "df_comp = raw_data.copy()"
   ]
  },
  {
   "cell_type": "code",
   "execution_count": 24,
   "metadata": {},
   "outputs": [],
   "source": [
    "df_comp['spx'] = df_comp['^GSPC'].Close[:]\n",
    "df_comp['dax'] = df_comp['^GDAXI'].Close[:]\n",
    "df_comp['ftse'] = df_comp['^FTSE'].Close[:]\n",
    "df_comp['nikkei'] = df_comp['^N225'].Close[:]"
   ]
  },
  {
   "cell_type": "code",
   "execution_count": 25,
   "metadata": {},
   "outputs": [],
   "source": [
    "df_comp = df_comp.iloc[1:]\n",
    "\n",
    "del df_comp['^N225']\n",
    "del df_comp['^GSPC']\n",
    "del df_comp['^GDAXI']\n",
    "del df_comp['^FTSE']\n",
    "\n",
    "df_comp = df_comp.asfreq('b')\n",
    "df_comp = df_comp.fillna(method='ffill')"
   ]
  },
  {
   "cell_type": "code",
   "execution_count": 28,
   "metadata": {},
   "outputs": [],
   "source": [
    "# Creating returns\n",
    "df_comp['ret_spx'] = df_comp.spx.pct_change(1).mul(100)\n",
    "df_comp['ret_dax'] = df_comp.dax.pct_change(1).mul(100)\n",
    "df_comp['ret_ftse'] = df_comp.ftse.pct_change(1).mul(100)\n",
    "df_comp['ret_nikkei'] = df_comp.nikkei.pct_change(1).mul(100)"
   ]
  },
  {
   "cell_type": "code",
   "execution_count": 29,
   "metadata": {},
   "outputs": [],
   "source": [
    "size = int(len(df_comp)*0.8)\n",
    "df, df_test = df_comp.iloc[:size], df_comp.iloc[size:]"
   ]
  },
  {
   "cell_type": "code",
   "execution_count": 30,
   "metadata": {},
   "outputs": [],
   "source": [
    "from pmdarima import auto_arima"
   ]
  },
  {
   "cell_type": "code",
   "execution_count": 31,
   "metadata": {},
   "outputs": [],
   "source": [
    "model_auto = auto_arima(df.ret_ftse[1:]) # best default arima for an idea"
   ]
  },
  {
   "cell_type": "code",
   "execution_count": 32,
   "metadata": {},
   "outputs": [
    {
     "data": {
      "text/plain": [
       "ARIMA(order=(3, 0, 5), scoring_args={}, suppress_warnings=True,\n",
       "      with_intercept=False)"
      ]
     },
     "execution_count": 32,
     "metadata": {},
     "output_type": "execute_result"
    }
   ],
   "source": [
    "model_auto"
   ]
  },
  {
   "cell_type": "code",
   "execution_count": 33,
   "metadata": {},
   "outputs": [
    {
     "data": {
      "text/html": [
       "<table class=\"simpletable\">\n",
       "<caption>SARIMAX Results</caption>\n",
       "<tr>\n",
       "  <th>Dep. Variable:</th>           <td>y</td>        <th>  No. Observations:  </th>   <td>5019</td>   \n",
       "</tr>\n",
       "<tr>\n",
       "  <th>Model:</th>           <td>SARIMAX(3, 0, 5)</td> <th>  Log Likelihood     </th> <td>-7883.727</td>\n",
       "</tr>\n",
       "<tr>\n",
       "  <th>Date:</th>            <td>Wed, 07 Apr 2021</td> <th>  AIC                </th> <td>15785.454</td>\n",
       "</tr>\n",
       "<tr>\n",
       "  <th>Time:</th>                <td>12:11:25</td>     <th>  BIC                </th> <td>15844.143</td>\n",
       "</tr>\n",
       "<tr>\n",
       "  <th>Sample:</th>                  <td>0</td>        <th>  HQIC               </th> <td>15806.020</td>\n",
       "</tr>\n",
       "<tr>\n",
       "  <th></th>                      <td> - 5019</td>     <th>                     </th>     <td> </td>    \n",
       "</tr>\n",
       "<tr>\n",
       "  <th>Covariance Type:</th>        <td>opg</td>       <th>                     </th>     <td> </td>    \n",
       "</tr>\n",
       "</table>\n",
       "<table class=\"simpletable\">\n",
       "<tr>\n",
       "     <td></td>       <th>coef</th>     <th>std err</th>      <th>z</th>      <th>P>|z|</th>  <th>[0.025</th>    <th>0.975]</th>  \n",
       "</tr>\n",
       "<tr>\n",
       "  <th>ar.L1</th>  <td>   -0.1262</td> <td>    0.078</td> <td>   -1.615</td> <td> 0.106</td> <td>   -0.279</td> <td>    0.027</td>\n",
       "</tr>\n",
       "<tr>\n",
       "  <th>ar.L2</th>  <td>   -0.8762</td> <td>    0.020</td> <td>  -44.932</td> <td> 0.000</td> <td>   -0.914</td> <td>   -0.838</td>\n",
       "</tr>\n",
       "<tr>\n",
       "  <th>ar.L3</th>  <td>   -0.2770</td> <td>    0.071</td> <td>   -3.876</td> <td> 0.000</td> <td>   -0.417</td> <td>   -0.137</td>\n",
       "</tr>\n",
       "<tr>\n",
       "  <th>ma.L1</th>  <td>    0.1014</td> <td>    0.078</td> <td>    1.299</td> <td> 0.194</td> <td>   -0.052</td> <td>    0.254</td>\n",
       "</tr>\n",
       "<tr>\n",
       "  <th>ma.L2</th>  <td>    0.8224</td> <td>    0.022</td> <td>   36.557</td> <td> 0.000</td> <td>    0.778</td> <td>    0.866</td>\n",
       "</tr>\n",
       "<tr>\n",
       "  <th>ma.L3</th>  <td>    0.1640</td> <td>    0.070</td> <td>    2.354</td> <td> 0.019</td> <td>    0.027</td> <td>    0.301</td>\n",
       "</tr>\n",
       "<tr>\n",
       "  <th>ma.L4</th>  <td>   -0.0087</td> <td>    0.009</td> <td>   -0.942</td> <td> 0.346</td> <td>   -0.027</td> <td>    0.009</td>\n",
       "</tr>\n",
       "<tr>\n",
       "  <th>ma.L5</th>  <td>   -0.1117</td> <td>    0.008</td> <td>  -13.479</td> <td> 0.000</td> <td>   -0.128</td> <td>   -0.095</td>\n",
       "</tr>\n",
       "<tr>\n",
       "  <th>sigma2</th> <td>    1.3549</td> <td>    0.015</td> <td>   91.085</td> <td> 0.000</td> <td>    1.326</td> <td>    1.384</td>\n",
       "</tr>\n",
       "</table>\n",
       "<table class=\"simpletable\">\n",
       "<tr>\n",
       "  <th>Ljung-Box (L1) (Q):</th>     <td>0.00</td> <th>  Jarque-Bera (JB):  </th> <td>6242.08</td>\n",
       "</tr>\n",
       "<tr>\n",
       "  <th>Prob(Q):</th>                <td>1.00</td> <th>  Prob(JB):          </th>  <td>0.00</td>  \n",
       "</tr>\n",
       "<tr>\n",
       "  <th>Heteroskedasticity (H):</th> <td>1.99</td> <th>  Skew:              </th>  <td>-0.17</td> \n",
       "</tr>\n",
       "<tr>\n",
       "  <th>Prob(H) (two-sided):</th>    <td>0.00</td> <th>  Kurtosis:          </th>  <td>8.45</td>  \n",
       "</tr>\n",
       "</table><br/><br/>Warnings:<br/>[1] Covariance matrix calculated using the outer product of gradients (complex-step)."
      ],
      "text/plain": [
       "<class 'statsmodels.iolib.summary.Summary'>\n",
       "\"\"\"\n",
       "                               SARIMAX Results                                \n",
       "==============================================================================\n",
       "Dep. Variable:                      y   No. Observations:                 5019\n",
       "Model:               SARIMAX(3, 0, 5)   Log Likelihood               -7883.727\n",
       "Date:                Wed, 07 Apr 2021   AIC                          15785.454\n",
       "Time:                        12:11:25   BIC                          15844.143\n",
       "Sample:                             0   HQIC                         15806.020\n",
       "                               - 5019                                         \n",
       "Covariance Type:                  opg                                         \n",
       "==============================================================================\n",
       "                 coef    std err          z      P>|z|      [0.025      0.975]\n",
       "------------------------------------------------------------------------------\n",
       "ar.L1         -0.1262      0.078     -1.615      0.106      -0.279       0.027\n",
       "ar.L2         -0.8762      0.020    -44.932      0.000      -0.914      -0.838\n",
       "ar.L3         -0.2770      0.071     -3.876      0.000      -0.417      -0.137\n",
       "ma.L1          0.1014      0.078      1.299      0.194      -0.052       0.254\n",
       "ma.L2          0.8224      0.022     36.557      0.000       0.778       0.866\n",
       "ma.L3          0.1640      0.070      2.354      0.019       0.027       0.301\n",
       "ma.L4         -0.0087      0.009     -0.942      0.346      -0.027       0.009\n",
       "ma.L5         -0.1117      0.008    -13.479      0.000      -0.128      -0.095\n",
       "sigma2         1.3549      0.015     91.085      0.000       1.326       1.384\n",
       "===================================================================================\n",
       "Ljung-Box (L1) (Q):                   0.00   Jarque-Bera (JB):              6242.08\n",
       "Prob(Q):                              1.00   Prob(JB):                         0.00\n",
       "Heteroskedasticity (H):               1.99   Skew:                            -0.17\n",
       "Prob(H) (two-sided):                  0.00   Kurtosis:                         8.45\n",
       "===================================================================================\n",
       "\n",
       "Warnings:\n",
       "[1] Covariance matrix calculated using the outer product of gradients (complex-step).\n",
       "\"\"\""
      ]
     },
     "execution_count": 33,
     "metadata": {},
     "output_type": "execute_result"
    }
   ],
   "source": [
    "model_auto.summary()"
   ]
  },
  {
   "cell_type": "code",
   "execution_count": 35,
   "metadata": {},
   "outputs": [],
   "source": [
    "# The rules of model selection are rather \"rules of thumb\" than \"fixed\"\n",
    "# Auto ARIMA only considers a single feature, the AIC\n",
    "# We could have easily overfitted while going through the models in our previous sections\n",
    "# The default arguments of the method restrict the number of AR and MA components"
   ]
  },
  {
   "cell_type": "code",
   "execution_count": 34,
   "metadata": {},
   "outputs": [],
   "source": [
    "model_auto = auto_arima(df_comp.ret_ftse[1:],\n",
    "                        exogenous=df_comp[['ret_spx','ret_dax','ret_nikkei']][1:],\n",
    "                        m = 5,\n",
    "                        max_order=None,\n",
    "                        max_p = 7,\n",
    "                        max_q = 7,\n",
    "                        max_d = 2,\n",
    "                        max_P = 4,\n",
    "                        max_Q = 4,\n",
    "                        max_D = 2,\n",
    "                        max_iter = 50,\n",
    "                        alpha = 0.05,\n",
    "                        n_jobs = -1,\n",
    "                        trend = 'ct',\n",
    "                        information_criterion='oob',\n",
    "                        out_of_sample_size = int(len(df_comp)*0.2),\n",
    "                        )"
   ]
  },
  {
   "cell_type": "code",
   "execution_count": 36,
   "metadata": {},
   "outputs": [
    {
     "data": {
      "text/html": [
       "<table class=\"simpletable\">\n",
       "<caption>SARIMAX Results</caption>\n",
       "<tr>\n",
       "  <th>Dep. Variable:</th>                 <td>y</td>               <th>  No. Observations:  </th>   <td>6275</td>   \n",
       "</tr>\n",
       "<tr>\n",
       "  <th>Model:</th>           <td>SARIMAX(2, 0, 2)x(1, 0, 2, 5)</td> <th>  Log Likelihood     </th> <td>-6357.988</td>\n",
       "</tr>\n",
       "<tr>\n",
       "  <th>Date:</th>                  <td>Wed, 07 Apr 2021</td>        <th>  AIC                </th> <td>12741.976</td>\n",
       "</tr>\n",
       "<tr>\n",
       "  <th>Time:</th>                      <td>13:07:33</td>            <th>  BIC                </th> <td>12829.652</td>\n",
       "</tr>\n",
       "<tr>\n",
       "  <th>Sample:</th>                        <td>0</td>               <th>  HQIC               </th> <td>12772.355</td>\n",
       "</tr>\n",
       "<tr>\n",
       "  <th></th>                            <td> - 6275</td>            <th>                     </th>     <td> </td>    \n",
       "</tr>\n",
       "<tr>\n",
       "  <th>Covariance Type:</th>              <td>opg</td>              <th>                     </th>     <td> </td>    \n",
       "</tr>\n",
       "</table>\n",
       "<table class=\"simpletable\">\n",
       "<tr>\n",
       "      <td></td>         <th>coef</th>     <th>std err</th>      <th>z</th>      <th>P>|z|</th>  <th>[0.025</th>    <th>0.975]</th>  \n",
       "</tr>\n",
       "<tr>\n",
       "  <th>intercept</th> <td>   -0.0088</td> <td>    0.008</td> <td>   -1.082</td> <td> 0.279</td> <td>   -0.025</td> <td>    0.007</td>\n",
       "</tr>\n",
       "<tr>\n",
       "  <th>drift</th>     <td> 6.202e-07</td> <td> 2.39e-06</td> <td>    0.259</td> <td> 0.795</td> <td>-4.07e-06</td> <td> 5.31e-06</td>\n",
       "</tr>\n",
       "<tr>\n",
       "  <th>x1</th>        <td>    0.0853</td> <td>    0.006</td> <td>   13.582</td> <td> 0.000</td> <td>    0.073</td> <td>    0.098</td>\n",
       "</tr>\n",
       "<tr>\n",
       "  <th>x2</th>        <td>    0.5634</td> <td>    0.005</td> <td>  102.833</td> <td> 0.000</td> <td>    0.553</td> <td>    0.574</td>\n",
       "</tr>\n",
       "<tr>\n",
       "  <th>x3</th>        <td>    0.0738</td> <td>    0.005</td> <td>   15.656</td> <td> 0.000</td> <td>    0.065</td> <td>    0.083</td>\n",
       "</tr>\n",
       "<tr>\n",
       "  <th>ar.L1</th>     <td>   -0.1405</td> <td>    0.092</td> <td>   -1.522</td> <td> 0.128</td> <td>   -0.321</td> <td>    0.040</td>\n",
       "</tr>\n",
       "<tr>\n",
       "  <th>ar.L2</th>     <td>    0.5456</td> <td>    0.054</td> <td>   10.041</td> <td> 0.000</td> <td>    0.439</td> <td>    0.652</td>\n",
       "</tr>\n",
       "<tr>\n",
       "  <th>ma.L1</th>     <td>    0.0193</td> <td>    0.093</td> <td>    0.208</td> <td> 0.835</td> <td>   -0.163</td> <td>    0.201</td>\n",
       "</tr>\n",
       "<tr>\n",
       "  <th>ma.L2</th>     <td>   -0.5749</td> <td>    0.056</td> <td>  -10.322</td> <td> 0.000</td> <td>   -0.684</td> <td>   -0.466</td>\n",
       "</tr>\n",
       "<tr>\n",
       "  <th>ar.S.L5</th>   <td>   -0.0128</td> <td>    0.187</td> <td>   -0.068</td> <td> 0.946</td> <td>   -0.379</td> <td>    0.353</td>\n",
       "</tr>\n",
       "<tr>\n",
       "  <th>ma.S.L5</th>   <td>   -0.0202</td> <td>    0.187</td> <td>   -0.108</td> <td> 0.914</td> <td>   -0.387</td> <td>    0.347</td>\n",
       "</tr>\n",
       "<tr>\n",
       "  <th>ma.S.L10</th>  <td>   -0.0550</td> <td>    0.013</td> <td>   -4.161</td> <td> 0.000</td> <td>   -0.081</td> <td>   -0.029</td>\n",
       "</tr>\n",
       "<tr>\n",
       "  <th>sigma2</th>    <td>    0.4861</td> <td>    0.005</td> <td>   90.545</td> <td> 0.000</td> <td>    0.476</td> <td>    0.497</td>\n",
       "</tr>\n",
       "</table>\n",
       "<table class=\"simpletable\">\n",
       "<tr>\n",
       "  <th>Ljung-Box (L1) (Q):</th>     <td>2.85</td> <th>  Jarque-Bera (JB):  </th> <td>12788.07</td>\n",
       "</tr>\n",
       "<tr>\n",
       "  <th>Prob(Q):</th>                <td>0.09</td> <th>  Prob(JB):          </th>   <td>0.00</td>  \n",
       "</tr>\n",
       "<tr>\n",
       "  <th>Heteroskedasticity (H):</th> <td>0.55</td> <th>  Skew:              </th>   <td>0.22</td>  \n",
       "</tr>\n",
       "<tr>\n",
       "  <th>Prob(H) (two-sided):</th>    <td>0.00</td> <th>  Kurtosis:          </th>   <td>9.98</td>  \n",
       "</tr>\n",
       "</table><br/><br/>Warnings:<br/>[1] Covariance matrix calculated using the outer product of gradients (complex-step)."
      ],
      "text/plain": [
       "<class 'statsmodels.iolib.summary.Summary'>\n",
       "\"\"\"\n",
       "                                     SARIMAX Results                                     \n",
       "=========================================================================================\n",
       "Dep. Variable:                                 y   No. Observations:                 6275\n",
       "Model:             SARIMAX(2, 0, 2)x(1, 0, 2, 5)   Log Likelihood               -6357.988\n",
       "Date:                           Wed, 07 Apr 2021   AIC                          12741.976\n",
       "Time:                                   13:07:33   BIC                          12829.652\n",
       "Sample:                                        0   HQIC                         12772.355\n",
       "                                          - 6275                                         \n",
       "Covariance Type:                             opg                                         \n",
       "==============================================================================\n",
       "                 coef    std err          z      P>|z|      [0.025      0.975]\n",
       "------------------------------------------------------------------------------\n",
       "intercept     -0.0088      0.008     -1.082      0.279      -0.025       0.007\n",
       "drift       6.202e-07   2.39e-06      0.259      0.795   -4.07e-06    5.31e-06\n",
       "x1             0.0853      0.006     13.582      0.000       0.073       0.098\n",
       "x2             0.5634      0.005    102.833      0.000       0.553       0.574\n",
       "x3             0.0738      0.005     15.656      0.000       0.065       0.083\n",
       "ar.L1         -0.1405      0.092     -1.522      0.128      -0.321       0.040\n",
       "ar.L2          0.5456      0.054     10.041      0.000       0.439       0.652\n",
       "ma.L1          0.0193      0.093      0.208      0.835      -0.163       0.201\n",
       "ma.L2         -0.5749      0.056    -10.322      0.000      -0.684      -0.466\n",
       "ar.S.L5       -0.0128      0.187     -0.068      0.946      -0.379       0.353\n",
       "ma.S.L5       -0.0202      0.187     -0.108      0.914      -0.387       0.347\n",
       "ma.S.L10      -0.0550      0.013     -4.161      0.000      -0.081      -0.029\n",
       "sigma2         0.4861      0.005     90.545      0.000       0.476       0.497\n",
       "===================================================================================\n",
       "Ljung-Box (L1) (Q):                   2.85   Jarque-Bera (JB):             12788.07\n",
       "Prob(Q):                              0.09   Prob(JB):                         0.00\n",
       "Heteroskedasticity (H):               0.55   Skew:                             0.22\n",
       "Prob(H) (two-sided):                  0.00   Kurtosis:                         9.98\n",
       "===================================================================================\n",
       "\n",
       "Warnings:\n",
       "[1] Covariance matrix calculated using the outer product of gradients (complex-step).\n",
       "\"\"\""
      ]
     },
     "execution_count": 36,
     "metadata": {},
     "output_type": "execute_result"
    }
   ],
   "source": [
    "model_auto.summary()"
   ]
  },
  {
   "cell_type": "code",
   "execution_count": null,
   "metadata": {},
   "outputs": [],
   "source": []
  },
  {
   "cell_type": "code",
   "execution_count": null,
   "metadata": {},
   "outputs": [],
   "source": []
  },
  {
   "cell_type": "code",
   "execution_count": null,
   "metadata": {},
   "outputs": [],
   "source": []
  },
  {
   "cell_type": "code",
   "execution_count": null,
   "metadata": {},
   "outputs": [],
   "source": []
  },
  {
   "cell_type": "code",
   "execution_count": null,
   "metadata": {},
   "outputs": [],
   "source": []
  },
  {
   "cell_type": "code",
   "execution_count": null,
   "metadata": {},
   "outputs": [],
   "source": []
  },
  {
   "cell_type": "code",
   "execution_count": null,
   "metadata": {},
   "outputs": [],
   "source": []
  },
  {
   "cell_type": "code",
   "execution_count": null,
   "metadata": {},
   "outputs": [],
   "source": []
  },
  {
   "cell_type": "code",
   "execution_count": null,
   "metadata": {},
   "outputs": [],
   "source": []
  },
  {
   "cell_type": "code",
   "execution_count": null,
   "metadata": {},
   "outputs": [],
   "source": []
  },
  {
   "cell_type": "code",
   "execution_count": null,
   "metadata": {},
   "outputs": [],
   "source": []
  },
  {
   "cell_type": "code",
   "execution_count": null,
   "metadata": {},
   "outputs": [],
   "source": []
  },
  {
   "cell_type": "code",
   "execution_count": null,
   "metadata": {},
   "outputs": [],
   "source": []
  },
  {
   "cell_type": "code",
   "execution_count": null,
   "metadata": {},
   "outputs": [],
   "source": []
  },
  {
   "cell_type": "code",
   "execution_count": null,
   "metadata": {},
   "outputs": [],
   "source": []
  },
  {
   "cell_type": "code",
   "execution_count": null,
   "metadata": {},
   "outputs": [],
   "source": []
  },
  {
   "cell_type": "code",
   "execution_count": null,
   "metadata": {},
   "outputs": [],
   "source": []
  },
  {
   "cell_type": "code",
   "execution_count": null,
   "metadata": {},
   "outputs": [],
   "source": []
  },
  {
   "cell_type": "code",
   "execution_count": null,
   "metadata": {},
   "outputs": [],
   "source": []
  },
  {
   "cell_type": "code",
   "execution_count": null,
   "metadata": {},
   "outputs": [],
   "source": []
  },
  {
   "cell_type": "code",
   "execution_count": null,
   "metadata": {},
   "outputs": [],
   "source": []
  },
  {
   "cell_type": "code",
   "execution_count": null,
   "metadata": {},
   "outputs": [],
   "source": []
  },
  {
   "cell_type": "code",
   "execution_count": null,
   "metadata": {},
   "outputs": [],
   "source": []
  },
  {
   "cell_type": "code",
   "execution_count": null,
   "metadata": {},
   "outputs": [],
   "source": []
  }
 ],
 "metadata": {
  "kernelspec": {
   "display_name": "Python 3",
   "language": "python",
   "name": "python3"
  },
  "language_info": {
   "codemirror_mode": {
    "name": "ipython",
    "version": 3
   },
   "file_extension": ".py",
   "mimetype": "text/x-python",
   "name": "python",
   "nbconvert_exporter": "python",
   "pygments_lexer": "ipython3",
   "version": "3.7.9"
  }
 },
 "nbformat": 4,
 "nbformat_minor": 4
}
